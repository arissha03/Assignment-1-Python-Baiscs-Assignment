{
  "nbformat": 4,
  "nbformat_minor": 0,
  "metadata": {
    "colab": {
      "provenance": []
    },
    "kernelspec": {
      "name": "python3",
      "display_name": "Python 3"
    },
    "language_info": {
      "name": "python"
    }
  },
  "cells": [
    {
      "cell_type": "markdown",
      "source": [
        "1. Explain the key features of Python that make it a popular choice for\n",
        "programming.\n",
        "\n",
        "\n",
        "---\n",
        "\n",
        "\n",
        "Answer: 1.**Libraries**:Python has a huge collection of libraries and frameworks like NumPy, Pandas, and TensorFlow which helps the developer and save their time and it works faster and efficient.\n",
        "2.**Simplicity**: The syntax of the Python are simple and easy to understand.\n",
        "3.**Integration**:Python can easily integrate with other languages like C, C++, and Java.\n",
        "\n",
        "\n"
      ],
      "metadata": {
        "id": "OAq1s78ukeic"
      }
    },
    {
      "cell_type": "markdown",
      "source": [
        "**Describe the role of predefined keywords in Python and provide examples of how they are used in a program.**\n",
        "\n",
        "---\n",
        "\n",
        "\n",
        "Answer:The predefined keywords in Python are actually the reserve words that is specially and specifically meant for python programming language. This is because they are necessary parts of the syntax and structure of Python. Keywords help define the flow of the program, control structures,etc.\n",
        "\n"
      ],
      "metadata": {
        "id": "hdcqcYaUqI_K"
      }
    },
    {
      "cell_type": "code",
      "source": [
        "#Examples containg keywords and conditional statement\n",
        "name = \"Arisha\"\n",
        "\n",
        "# Ask the user to enter Alice age\n",
        "age = int(input(f\"Enter {name}'s age: \"))  # variable (integer)\n",
        "\n",
        "# Ask the user to enter an activity for Alice\n",
        "activity = input(f\"Enter an activity for {name} (Traveling, Reading, Gaming): \")\n",
        "\n",
        "# Using a for loop to check Alice activities based on her age\n",
        "print(f\"\\nActivities for {name} (age {age}):\")\n",
        "\n",
        "# Validate and respond to the user-input activity\n",
        "if activity == \"Traveling\":\n",
        "    if age < 21:\n",
        "        print(f\"{name} needs to be at least 21 to travel alone.\")\n",
        "    else:\n",
        "        print(f\"{name} enjoys {activity}.\")\n",
        "elif activity == \"Reading\":\n",
        "    print(f\"{name} enjoys {activity}.\")\n",
        "elif activity == \"Gaming\":\n",
        "    print(f\"{name} enjoys {activity}.\")\n",
        "    print(f\"{name} has decided to stop gaming for now.\")\n",
        "else:\n",
        "    print(f\"{activity} is not a valid activity for {name}. Please choose from the given activities\")\n",
        "\n",
        "# Ask user to start the countdown\n",
        "start_countdown = input(f\"\\nDo you want to start the birthday countdown for {name}? (yes/no): \")\n",
        "\n",
        "if start_countdown == \"yes\":\n",
        "    # Using a while loop to start a countdown for Alice birthday\n",
        "    countdown = 5\n",
        "    print(f\"{name}'s Birthday Countdown:\")\n",
        "    while countdown > 0:\n",
        "        print(countdown)\n",
        "        countdown -= 1\n",
        "    print(f\"{name}'s birthday has arrived!\")\n",
        "else:\n",
        "    print(\"Countdown not started.\")\n",
        "\n",
        "# Check if Alice is eligible for something\n",
        "is_student = False  # variable (boolean)\n",
        "if age >= 18 and is_student:\n",
        "    print(f\"{name} is eligible for the student program.\")\n",
        "elif age >= 18 and not is_student:\n",
        "    print(f\"{name} is eligible but not a student.\")\n",
        "else:\n",
        "    print(f\"{name} is not eligible.\")\n"
      ],
      "metadata": {
        "colab": {
          "base_uri": "https://localhost:8080/"
        },
        "id": "yhYrJhaCBJnF",
        "outputId": "3a0872cd-1866-4f25-f9e1-6cb51f10fd71"
      },
      "execution_count": 3,
      "outputs": [
        {
          "output_type": "stream",
          "name": "stdout",
          "text": [
            "Enter Arisha's age: 22\n",
            "Enter an activity for Arisha (Traveling, Reading, Gaming): Traveling\n",
            "\n",
            "Activities for Arisha (age 22):\n",
            "Arisha enjoys Traveling.\n",
            "\n",
            "Do you want to start the birthday countdown for Arisha? (yes/no): yes\n",
            "Arisha's Birthday Countdown:\n",
            "5\n",
            "4\n",
            "3\n",
            "2\n",
            "1\n",
            "Arisha's birthday has arrived!\n",
            "Arisha is eligible but not a student.\n"
          ]
        }
      ]
    },
    {
      "cell_type": "markdown",
      "source": [
        "3.Compare and contrast mutable and immutable objects in Python with examples.\n",
        "\n",
        "\n",
        "---\n",
        "Answer:\n",
        "**Mutable Objects**\n",
        "Definition: Objects that can be modified after their creation.\n",
        "Examples: Lists, dictionaries, sets.\n",
        "Modification: You can change, add, or remove elements without creating a new object.\n",
        "Memory Efficiency: More efficient for large datasets since they can be modified in place.\n",
        "Identity: The object's identity remains the same after modifications.\n",
        "Use Cases: Useful for collections of items that need to be updated frequently (e.g., maintaining a list of active users).\n",
        "\n",
        "---\n",
        "\n",
        "\n",
        "**Immutable Objects**\n",
        "Definition: Objects that cannot be modified after their creation.\n",
        "Examples: Strings, tuples, frozensets, integers.\n",
        "Modification: Any change results in the creation of a new object.\n",
        "Memory Efficiency: Less efficient for large datasets, as modifications create new objects.\n",
        "Identity: A new identity is created when modified.\n",
        "Use Cases: Suitable for fixed collections of items (e.g., constant values, coordinates).\n"
      ],
      "metadata": {
        "id": "ApIQARjQ-odj"
      }
    },
    {
      "cell_type": "code",
      "source": [
        "#Example of Mutable Objects:\n",
        "# Mutable object: List\n",
        "my_list = [1, 2, 3]\n",
        "print(\"Original list:\", my_list)\n",
        "\n",
        "# Modifying the list\n",
        "my_list.append(4)\n",
        "print(\"Modified list:\", my_list)  # Output: [1, 2, 3, 4]\n",
        "\n",
        "# Changing an element\n",
        "my_list[0] = 10\n",
        "print(\"List after change:\", my_list)  # Output: [10, 2, 3, 4]\n",
        "\n",
        "# Example of Immutable Objects:\n",
        "# Immutable object: String\n",
        "my_string = \"Hello\"\n",
        "print(\"Original string:\", my_string)\n",
        "\n",
        "# Trying to modify the string (this will not work)\n",
        "# my_string[0] = \"h\"  # This line would raise an error\n",
        "\n",
        "# Instead, create a new string\n",
        "new_string = \"h\" + my_string[1:]\n",
        "print(\"Modified string:\", new_string)  # Output: \"hello\"\n",
        "\n",
        "# Immutable object: Tuple\n",
        "my_tuple = (1, 2, 3)\n",
        "print(\"Original tuple:\", my_tuple)\n",
        "\n",
        "# Trying to modify the tuple (this will raise an error)\n",
        "# my_tuple[0] = 10  # This line would raise an error\n",
        "\n",
        "# Creating a new tuple instead\n",
        "new_tuple = (10,) + my_tuple[1:]\n",
        "print(\"Modified tuple:\", new_tuple)  # Output: (10, 2, 3)\n"
      ],
      "metadata": {
        "colab": {
          "base_uri": "https://localhost:8080/"
        },
        "id": "t31fIRBpD8aP",
        "outputId": "4d23db4e-dcf6-4b39-c462-d6740d1fbad7"
      },
      "execution_count": 2,
      "outputs": [
        {
          "output_type": "stream",
          "name": "stdout",
          "text": [
            "Original list: [1, 2, 3]\n",
            "Modified list: [1, 2, 3, 4]\n",
            "List after change: [10, 2, 3, 4]\n",
            "Original string: Hello\n",
            "Modified string: hello\n",
            "Original tuple: (1, 2, 3)\n",
            "Modified tuple: (10, 2, 3)\n"
          ]
        }
      ]
    },
    {
      "cell_type": "markdown",
      "source": [
        "4. Discuss the different types of operators in Python and provide examples of how they are used.\n",
        "\n",
        "\n",
        "---\n",
        "\n",
        "Answer:\n",
        "**1. Arithmetic Operators**\n",
        "These operators are used to perform mathematical operations.\n",
        "it includes +,-,*,/,**\n",
        "\n",
        "---\n",
        "\n",
        "\n",
        "**2. Comparison Operators**\n",
        "These operators compare two values and return a boolean result.\n",
        "It includes <,>,==,<=,>=\n",
        "\n",
        "---\n",
        "\n",
        "\n",
        "**3. Logical Operators**\n",
        "These operators are used to combine conditional statements.\n",
        "It includes and,or,not\n",
        "\n",
        "---\n",
        "\n",
        "4.**Bitwise Operators**\n",
        "These operators perform operations on bits and are used with integers.\n",
        "It includes\n",
        "&&\tBitwise AND\n",
        "`\tBitwise OR\n",
        "^\tBitwise XOR\n",
        "~\tBitwise NOT\n",
        "<< Left Shift\n",
        ">> Right Shift"
      ],
      "metadata": {
        "id": "72tumc-DEfzQ"
      }
    },
    {
      "cell_type": "code",
      "source": [
        "#1.Arithmetic Operators\n",
        "a = 10\n",
        "b = 3\n",
        "print(a + b)\n",
        "print(a - b)\n",
        "print(a * b)\n",
        "print(a / b)\n",
        "print(a ** b)\n",
        "\n",
        "#2. Comparison Operators\n",
        "x = 5\n",
        "y = 3\n",
        "print(x == y)\n",
        "print(x != y)\n",
        "print(x > y)\n",
        "print(x < y)\n",
        "print(x >= 5)\n",
        "print(x <= 3)\n",
        "\n",
        "#3. Logical Operators\n",
        "p = True\n",
        "q = False\n",
        "print(p and q)\n",
        "print(p or q)\n",
        "print(not p)\n",
        "\n",
        "4.#Bitwise Operators\n",
        "a = 3\n",
        "b = 7\n",
        "print(\"Bitwise AND Operator On 3 and 7 is = \", a & b)\n",
        "print(\"Bitwise OR Operator On 3 and 7 is = \", a | b)\n",
        "print(\"Bitwise EXCLUSIVE OR Operator On 3 and 7 is = \", a ^ b)\n",
        "print(\"Bitwise NOT Operator On 3 is = \", ~a)\n",
        "\n",
        "print(\"Bitwise LEFT SHIFT Operator On 3 is = \", a << 1)\n",
        "print(\"Bitwise RIGHT SHIFT Operator On 7 is = \", b >> 1)\n",
        "\n"
      ],
      "metadata": {
        "colab": {
          "base_uri": "https://localhost:8080/"
        },
        "id": "9YhGPPy7F6zF",
        "outputId": "d4048081-d053-4b1a-df21-e22b6bb2493e"
      },
      "execution_count": 1,
      "outputs": [
        {
          "output_type": "stream",
          "name": "stdout",
          "text": [
            "13\n",
            "7\n",
            "30\n",
            "3.3333333333333335\n",
            "1000\n",
            "False\n",
            "True\n",
            "True\n",
            "False\n",
            "True\n",
            "False\n",
            "False\n",
            "True\n",
            "False\n",
            "Bitwise AND Operator On 3 and 7 is =  3\n",
            "Bitwise OR Operator On 3 and 7 is =  7\n",
            "Bitwise EXCLUSIVE OR Operator On 3 and 7 is =  4\n",
            "Bitwise NOT Operator On 3 is =  -4\n",
            "Bitwise LEFT SHIFT Operator On 3 is =  6\n",
            "Bitwise RIGHT SHIFT Operator On 7 is =  3\n"
          ]
        }
      ]
    },
    {
      "cell_type": "markdown",
      "source": [
        "5.Explain the concept of type casting in Python with examples.\n",
        "\n",
        "---\n",
        "\n",
        "Answer:\n",
        "Type casting is the process of changing the data type of a value/object because\n",
        "while executing using operators, there can be mismatch between the datatypes.There re two types of type casting (i)Implicit Typecasting and (ii)Explicit Typecasting.\n",
        "(i)Implicit Typecasting:This occurs automatically when Python converts one data type to another\n",
        "(ii)Explicit Typecasting:Convert data type using inbuilt functiond>> str, int, float, bool."
      ],
      "metadata": {
        "id": "NQESby2YIyJ4"
      }
    },
    {
      "cell_type": "code",
      "source": [
        "#Explicit type casting examples\n",
        "#Converting to Integer\n",
        "float_number = 10.75\n",
        "int_number = int(float_number)\n",
        "print(int_number)\n",
        "# Converting to Float\n",
        "int_number = 10\n",
        "float_number = float(int_number)\n",
        "print(float_number)\n",
        "#Converting to String\n",
        "number = 123\n",
        "string_number = str(number)\n",
        "# Implicit type casting example\n",
        "a = 15      # int\n",
        "b = 3.7    # float\n",
        "result = a + b  # int is implicitly converted to float\n",
        "print(result)"
      ],
      "metadata": {
        "colab": {
          "base_uri": "https://localhost:8080/"
        },
        "id": "VwsDRyI8MCYD",
        "outputId": "e02482bb-7852-4cd6-d677-3b09531a1c40"
      },
      "execution_count": 5,
      "outputs": [
        {
          "output_type": "stream",
          "name": "stdout",
          "text": [
            "10\n",
            "10.0\n",
            "18.7\n"
          ]
        }
      ]
    },
    {
      "cell_type": "markdown",
      "source": [
        "\n",
        "6.How do conditional statements work in Python? Illustrate with examples.\n",
        "\n",
        "---\n",
        "Answer:\n",
        "**if Statement**: This is the simplest form of a conditional statement; that checks a condition and if the condition is true, the block of code is run.\n",
        "\n",
        "**elif Statement**: Stands for else if; this let’s you test multiple conditions. if that is a False than the program checks the next condition to determine if true or not.\n",
        "\n",
        "**else Statement**: This block executes, at the beginning of a cycle, if all other conditions have been false.\n",
        "\n"
      ],
      "metadata": {
        "id": "8kA25eMANJtx"
      }
    },
    {
      "cell_type": "code",
      "source": [
        "progress= 75\n",
        "\n",
        "if progress >= 85:\n",
        "    print(\"Certificate will be Generated\")\n",
        "elif progress >= 80:\n",
        "    print(\"Job Portal is Accessible \")\n",
        "elif progress >= 70:\n",
        "    print(\"Interview preaparation will begin\")\n",
        "else:\n",
        "    print(\"Enough syllabus is not completed\")\n"
      ],
      "metadata": {
        "colab": {
          "base_uri": "https://localhost:8080/"
        },
        "id": "I1TGNShtN_PO",
        "outputId": "08f18912-01dc-497e-d2a5-7dba6e1a237c"
      },
      "execution_count": 13,
      "outputs": [
        {
          "output_type": "stream",
          "name": "stdout",
          "text": [
            "Interview preaparation will begin\n"
          ]
        }
      ]
    },
    {
      "cell_type": "markdown",
      "source": [
        "7.Describe the different types of loops in Python and their use cases with examples.\n",
        "\n",
        "\n",
        "---\n",
        "Answer:\n",
        "1. **For Loop**\n",
        "Description: The for loop is used to iterate over a sequence like a list, tuple, string, or range. It is commonly used when the number of iterations is known beforehand.\n",
        "Use Case: Iterating over elements in a collection, such as processing items in a list.\n",
        "\n",
        "---\n",
        "\n",
        "\n",
        "2. **While Loop**\n",
        "Description: The while loop continues to execute a block of code as long as a specified condition is true. It is used when the number of iterations is not known in advance and depends on dynamic conditions.\n",
        "Use Case: Repeating actions until a certain condition is met, such as user input validation or countdowns.\n",
        "\n",
        "---\n",
        "3. **Loop Control Statements**\n",
        "Python also includes control statements to modify the behavior of loops:\n",
        "break: Terminates the loop prematurely.\n",
        "continue: Skips the current iteration and moves to the next one.\n",
        "pass: A null operation that can be used as a placeholder.\n"
      ],
      "metadata": {
        "id": "C5mnIIDHP1Dp"
      }
    },
    {
      "cell_type": "code",
      "source": [
        "#for Loop\n",
        "# for multiplication table\n",
        "for i in range(4,6):\n",
        "    for j in range(1, 11):\n",
        "        product = i * j\n",
        "        print(f\"{i} * {j} = {product}\")\n",
        "    print()\n",
        "#while Loop\n",
        "row = 1\n",
        "while row <= 4:\n",
        "    col = 1\n",
        "    while col <= row:\n",
        "        print(\"*\", end = \"\")\n",
        "        col = col+1\n",
        "    print()\n",
        "    row = row+1\n",
        "# break\n",
        "for i in range(10):\n",
        "    if i == 5:\n",
        "        print(\"Exiting loop at\", i)\n",
        "        break  # Exit the loop when i equals 5\n",
        "    print(i)\n",
        "# continue\n",
        "for i in range(5):\n",
        "    if i == 2:\n",
        "        print(\"Skipping\", i)\n",
        "        continue  # Skip when i equals 2\n",
        "    print(i)\n",
        "#pass\n",
        "for i in range(3):\n",
        "    if i == 1:\n",
        "        pass  # Do nothing for i equals 1\n",
        "    print(i)"
      ],
      "metadata": {
        "colab": {
          "base_uri": "https://localhost:8080/"
        },
        "id": "ragCuoPPRB-4",
        "outputId": "e22ce7e6-5cfe-417b-8322-e2fc0f89ede8"
      },
      "execution_count": 16,
      "outputs": [
        {
          "output_type": "stream",
          "name": "stdout",
          "text": [
            "4 * 1 = 4\n",
            "4 * 2 = 8\n",
            "4 * 3 = 12\n",
            "4 * 4 = 16\n",
            "4 * 5 = 20\n",
            "4 * 6 = 24\n",
            "4 * 7 = 28\n",
            "4 * 8 = 32\n",
            "4 * 9 = 36\n",
            "4 * 10 = 40\n",
            "\n",
            "5 * 1 = 5\n",
            "5 * 2 = 10\n",
            "5 * 3 = 15\n",
            "5 * 4 = 20\n",
            "5 * 5 = 25\n",
            "5 * 6 = 30\n",
            "5 * 7 = 35\n",
            "5 * 8 = 40\n",
            "5 * 9 = 45\n",
            "5 * 10 = 50\n",
            "\n",
            "*\n",
            "**\n",
            "***\n",
            "****\n",
            "0\n",
            "1\n",
            "2\n",
            "3\n",
            "4\n",
            "Exiting loop at 5\n",
            "0\n",
            "1\n",
            "Skipping 2\n",
            "3\n",
            "4\n",
            "0\n",
            "1\n",
            "2\n"
          ]
        }
      ]
    },
    {
      "cell_type": "code",
      "source": [],
      "metadata": {
        "id": "fB-xjz3DSjdl"
      },
      "execution_count": null,
      "outputs": []
    }
  ]
}